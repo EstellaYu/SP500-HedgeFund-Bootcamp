{
 "cells": [
  {
   "cell_type": "code",
   "execution_count": 1,
   "metadata": {},
   "outputs": [],
   "source": [
    "import os\n",
    "\n",
    "import pandas as pd\n",
    "import numpy as np\n",
    "\n",
    "import sqlalchemy\n",
    "from sqlalchemy.ext.automap import automap_base\n",
    "from sqlalchemy.orm import Session\n",
    "from sqlalchemy import create_engine, func\n",
    "\n",
    "from flask import Flask, jsonify, render_template\n",
    "from flask_sqlalchemy import SQLAlchemy"
   ]
  },
  {
   "cell_type": "code",
   "execution_count": 2,
   "metadata": {},
   "outputs": [],
   "source": [
    "#data_filename = \"../DataSets/S&P500.sqlite\"\n",
    "engine = create_engine(\"sqlite:///DataSets/S&P500.sqlite\")"
   ]
  },
  {
   "cell_type": "code",
   "execution_count": null,
   "metadata": {},
   "outputs": [],
   "source": []
  },
  {
   "cell_type": "code",
   "execution_count": 3,
   "metadata": {},
   "outputs": [],
   "source": [
    "# reflect an existing database into a new model\n",
    "Base = automap_base()"
   ]
  },
  {
   "cell_type": "code",
   "execution_count": 4,
   "metadata": {},
   "outputs": [],
   "source": [
    "Base.prepare(engine, reflect=True)"
   ]
  },
  {
   "cell_type": "code",
   "execution_count": 5,
   "metadata": {},
   "outputs": [],
   "source": [
    "# Save references to each table\n",
    "Threebars = Base.classes.threebars\n",
    "Fivelines = Base.classes.fivelines\n",
    "Sampledata = Base.classes.sampledata\n",
    "Threedchart = Base.classes.threedchart\n"
   ]
  },
  {
   "cell_type": "code",
   "execution_count": 6,
   "metadata": {},
   "outputs": [],
   "source": [
    "#################################################\n",
    "# Flask Setup\n",
    "#################################################\n",
    "app = Flask(__name__)"
   ]
  },
  {
   "cell_type": "code",
   "execution_count": 7,
   "metadata": {},
   "outputs": [],
   "source": [
    "@app.route(\"/\")\n",
    "def index():\n",
    "    \n",
    "    \"\"\"Return the homepage.\"\"\"\n",
    "#    return render_template(\"index.html\")\n",
    "    return \"Welcome\"\n"
   ]
  },
  {
   "cell_type": "code",
   "execution_count": 8,
   "metadata": {},
   "outputs": [],
   "source": [
    "@app.route(\"/tickers\")\n",
    "def tickers():\n",
    "    \"\"\"Return a list of tickers\"\"\"\n",
    "\n",
    "\n",
    "    # Get the unique list of tickers\n",
    "    session = Session(engine)\n",
    "    results = session.query(Sampledata.ticker).distinct().all()\n",
    "    \n",
    "    tickers = list(np.ravel(results))\n",
    "\n",
    "    # Sort alphabetically\n",
    "    tickers.sort()\n",
    "\n",
    "    return jsonify(tickers)\n"
   ]
  },
  {
   "cell_type": "code",
   "execution_count": null,
   "metadata": {},
   "outputs": [
    {
     "name": "stdout",
     "output_type": "stream",
     "text": [
      " * Serving Flask app \"__main__\" (lazy loading)\n",
      " * Environment: production\n",
      "   WARNING: Do not use the development server in a production environment.\n",
      "   Use a production WSGI server instead.\n",
      " * Debug mode: off\n"
     ]
    },
    {
     "name": "stderr",
     "output_type": "stream",
     "text": [
      " * Running on http://127.0.0.1:5000/ (Press CTRL+C to quit)\n",
      "127.0.0.1 - - [24/Sep/2019 13:19:16] \"GET / HTTP/1.1\" 200 -\n",
      "127.0.0.1 - - [24/Sep/2019 13:19:26] \"GET / HTTP/1.1\" 200 -\n",
      "127.0.0.1 - - [24/Sep/2019 13:19:32] \"GET / HTTP/1.1\" 200 -\n",
      "127.0.0.1 - - [24/Sep/2019 13:19:39] \"GET /ticker HTTP/1.1\" 404 -\n",
      "127.0.0.1 - - [24/Sep/2019 13:19:46] \"GET /tickers HTTP/1.1\" 200 -\n"
     ]
    }
   ],
   "source": [
    "if __name__ == \"__main__\":\n",
    "    app.run()"
   ]
  },
  {
   "cell_type": "code",
   "execution_count": null,
   "metadata": {},
   "outputs": [],
   "source": []
  }
 ],
 "metadata": {
  "kernelspec": {
   "display_name": "Python 3",
   "language": "python",
   "name": "python3"
  },
  "language_info": {
   "codemirror_mode": {
    "name": "ipython",
    "version": 3
   },
   "file_extension": ".py",
   "mimetype": "text/x-python",
   "name": "python",
   "nbconvert_exporter": "python",
   "pygments_lexer": "ipython3",
   "version": "3.7.3"
  }
 },
 "nbformat": 4,
 "nbformat_minor": 2
}
