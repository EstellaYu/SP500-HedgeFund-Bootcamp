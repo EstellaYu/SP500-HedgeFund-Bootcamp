{
 "cells": [
  {
   "cell_type": "code",
   "execution_count": null,
   "metadata": {},
   "outputs": [],
   "source": [
    "# Open the CompanyData database\n",
    "# In the Prices file, calculate the forward 3 month return\n",
    "# Do an inner join on the two files\n",
    "# calculate all the ratios\n",
    "# write code to return the quintile results based on flask requests"
   ]
  },
  {
   "cell_type": "code",
   "execution_count": 1,
   "metadata": {},
   "outputs": [],
   "source": [
    "import pandas as pd\n",
    "import requests\n",
    "import json\n",
    "import datetime\n",
    "import time\n",
    "from dateutil.relativedelta import relativedelta\n",
    "\n",
    "import sqlalchemy\n",
    "from sqlalchemy.types import Integer, Text, String, Float, Date\n",
    "from sqlalchemy.ext.automap import automap_base\n",
    "from sqlalchemy.orm import Session\n",
    "from sqlalchemy import create_engine, inspect, func"
   ]
  },
  {
   "cell_type": "code",
   "execution_count": 2,
   "metadata": {},
   "outputs": [
    {
     "name": "stdout",
     "output_type": "stream",
     "text": [
      "['FinData2', 'PriceData2', 'findata', 'pricedata']\n"
     ]
    }
   ],
   "source": [
    "database_name = \"../data/CompanyData.sqlite\"\n",
    "engine = create_engine(f\"sqlite:///{database_name}\", echo=False)\n",
    "inspector = inspect(engine)\n",
    "print(inspector.get_table_names())"
   ]
  },
  {
   "cell_type": "code",
   "execution_count": null,
   "metadata": {},
   "outputs": [],
   "source": [
    "columns = inspector.get_columns('findata')\n",
    "for c in columns:\n",
    "    print(c['name'], c[\"type\"])"
   ]
  },
  {
   "cell_type": "code",
   "execution_count": null,
   "metadata": {},
   "outputs": [],
   "source": [
    "columns = inspector.get_columns('pricedata')\n",
    "for c in columns:\n",
    "    print(c['name'], c[\"type\"])"
   ]
  },
  {
   "cell_type": "code",
   "execution_count": null,
   "metadata": {},
   "outputs": [],
   "source": [
    "create_FinData_sql = 'CREATE TABLE \"FinData2\" (' + \\\n",
    "    'idx BIGINT, ' + \\\n",
    "    'monthend_date DATE, ' + \\\n",
    "    'ticker VARCHAR(8), ' + \\\n",
    "    'cash FLOAT, ' + \\\n",
    "    'st_debt FLOAT, ' + \\\n",
    "    'lt_debt FLOAT, ' + \\\n",
    "    'equity FLOAT, ' + \\\n",
    "    'revenue FLOAT, ' + \\\n",
    "    'ebit FLOAT, ' + \\\n",
    "    'net_income FLOAT, ' + \\\n",
    "    'basic_eps FLOAT, ' + \\\n",
    "    'diluted_eps FLOAT, ' + \\\n",
    "    'shares FLOAT, ' + \\\n",
    "    'qtr_date DATE, ' + \\\n",
    "    'PRIMARY KEY (monthend_date, ticker));'\n",
    "\n",
    "engine.execute(create_FinData_sql)\n"
   ]
  },
  {
   "cell_type": "code",
   "execution_count": null,
   "metadata": {},
   "outputs": [],
   "source": [
    "sql_stmt = \"INSERT INTO FinData2 SELECT * FROM findata\"\n",
    "engine.execute(sql_stmt)"
   ]
  },
  {
   "cell_type": "code",
   "execution_count": null,
   "metadata": {},
   "outputs": [],
   "source": [
    "create_PriceData_sql = 'CREATE TABLE \"PriceData2\" (' + \\\n",
    "    'idx BIGINT, ' + \\\n",
    "    'monthend_date DATE, ' + \\\n",
    "    'ticker VARCHAR(8), ' + \\\n",
    "    'price FLOAT, ' + \\\n",
    "    'wealth_index FLOAT, ' + \\\n",
    "    'PRIMARY KEY (monthend_date, ticker));'\n",
    "\n",
    "engine.execute(create_PriceData_sql)"
   ]
  },
  {
   "cell_type": "code",
   "execution_count": null,
   "metadata": {},
   "outputs": [],
   "source": [
    "sql_stmt = \"INSERT INTO PriceData2 SELECT * FROM pricedata\"\n",
    "engine.execute(sql_stmt)"
   ]
  },
  {
   "cell_type": "code",
   "execution_count": 3,
   "metadata": {},
   "outputs": [
    {
     "data": {
      "text/plain": [
       "['FinData2', 'PriceData2']"
      ]
     },
     "execution_count": 3,
     "metadata": {},
     "output_type": "execute_result"
    }
   ],
   "source": [
    "# Reflect Database into ORM class\n",
    "Base = automap_base()\n",
    "Base.prepare(engine, reflect=True)\n",
    "Base.classes.keys()"
   ]
  },
  {
   "cell_type": "code",
   "execution_count": 4,
   "metadata": {},
   "outputs": [],
   "source": [
    "FinData = Base.classes.FinData2\n",
    "PriceData = Base.classes.PriceData2\n",
    "session = Session(engine)"
   ]
  },
  {
   "cell_type": "code",
   "execution_count": null,
   "metadata": {},
   "outputs": [],
   "source": [
    "sel = [FinData.ticker, FinData.monthend_date, FinData.diluted_eps] \n",
    "\n",
    "selected_data = session.query(*sel).\\\n",
    "    filter(FinData.ticker == \"IBM\").all()\n",
    "\n",
    "selected_data"
   ]
  },
  {
   "cell_type": "code",
   "execution_count": 5,
   "metadata": {},
   "outputs": [
    {
     "ename": "NameError",
     "evalue": "name 'df' is not defined",
     "output_type": "error",
     "traceback": [
      "\u001b[1;31m---------------------------------------------------------------------------\u001b[0m",
      "\u001b[1;31mNameError\u001b[0m                                 Traceback (most recent call last)",
      "\u001b[1;32m<ipython-input-5-7b00c8259d60>\u001b[0m in \u001b[0;36m<module>\u001b[1;34m\u001b[0m\n\u001b[0;32m      1\u001b[0m \u001b[0mprices_df\u001b[0m \u001b[1;33m=\u001b[0m \u001b[0mpd\u001b[0m\u001b[1;33m.\u001b[0m\u001b[0mread_sql_query\u001b[0m\u001b[1;33m(\u001b[0m\u001b[1;34m\"SELECT * FROM PriceData2\"\u001b[0m\u001b[1;33m,\u001b[0m \u001b[0mengine\u001b[0m\u001b[1;33m)\u001b[0m\u001b[1;33m\u001b[0m\u001b[1;33m\u001b[0m\u001b[0m\n\u001b[1;32m----> 2\u001b[1;33m \u001b[0mdf\u001b[0m\u001b[1;33m.\u001b[0m\u001b[0mhead\u001b[0m\u001b[1;33m(\u001b[0m\u001b[1;33m)\u001b[0m\u001b[1;33m\u001b[0m\u001b[1;33m\u001b[0m\u001b[0m\n\u001b[0m",
      "\u001b[1;31mNameError\u001b[0m: name 'df' is not defined"
     ]
    }
   ],
   "source": [
    "prices_df = pd.read_sql_query(\"SELECT * FROM PriceData2\", engine)\n"
   ]
  },
  {
   "cell_type": "code",
   "execution_count": 6,
   "metadata": {},
   "outputs": [
    {
     "data": {
      "text/html": [
       "<div>\n",
       "<style scoped>\n",
       "    .dataframe tbody tr th:only-of-type {\n",
       "        vertical-align: middle;\n",
       "    }\n",
       "\n",
       "    .dataframe tbody tr th {\n",
       "        vertical-align: top;\n",
       "    }\n",
       "\n",
       "    .dataframe thead th {\n",
       "        text-align: right;\n",
       "    }\n",
       "</style>\n",
       "<table border=\"1\" class=\"dataframe\">\n",
       "  <thead>\n",
       "    <tr style=\"text-align: right;\">\n",
       "      <th></th>\n",
       "      <th>idx</th>\n",
       "      <th>monthend_date</th>\n",
       "      <th>ticker</th>\n",
       "      <th>price</th>\n",
       "      <th>wealth_index</th>\n",
       "    </tr>\n",
       "  </thead>\n",
       "  <tbody>\n",
       "    <tr>\n",
       "      <th>0</th>\n",
       "      <td>0</td>\n",
       "      <td>2019-09-30</td>\n",
       "      <td>A</td>\n",
       "      <td>77.97</td>\n",
       "      <td>77.9700</td>\n",
       "    </tr>\n",
       "    <tr>\n",
       "      <th>1</th>\n",
       "      <td>1</td>\n",
       "      <td>2019-08-31</td>\n",
       "      <td>A</td>\n",
       "      <td>71.11</td>\n",
       "      <td>71.1100</td>\n",
       "    </tr>\n",
       "    <tr>\n",
       "      <th>2</th>\n",
       "      <td>2</td>\n",
       "      <td>2019-07-31</td>\n",
       "      <td>A</td>\n",
       "      <td>69.41</td>\n",
       "      <td>69.4100</td>\n",
       "    </tr>\n",
       "    <tr>\n",
       "      <th>3</th>\n",
       "      <td>3</td>\n",
       "      <td>2019-06-30</td>\n",
       "      <td>A</td>\n",
       "      <td>74.67</td>\n",
       "      <td>74.5060</td>\n",
       "    </tr>\n",
       "    <tr>\n",
       "      <th>4</th>\n",
       "      <td>4</td>\n",
       "      <td>2019-05-31</td>\n",
       "      <td>A</td>\n",
       "      <td>67.05</td>\n",
       "      <td>66.9027</td>\n",
       "    </tr>\n",
       "  </tbody>\n",
       "</table>\n",
       "</div>"
      ],
      "text/plain": [
       "   idx monthend_date ticker  price  wealth_index\n",
       "0    0    2019-09-30      A  77.97       77.9700\n",
       "1    1    2019-08-31      A  71.11       71.1100\n",
       "2    2    2019-07-31      A  69.41       69.4100\n",
       "3    3    2019-06-30      A  74.67       74.5060\n",
       "4    4    2019-05-31      A  67.05       66.9027"
      ]
     },
     "execution_count": 6,
     "metadata": {},
     "output_type": "execute_result"
    }
   ],
   "source": [
    "prices_df.head()"
   ]
  },
  {
   "cell_type": "code",
   "execution_count": 7,
   "metadata": {},
   "outputs": [
    {
     "data": {
      "text/plain": [
       "107909"
      ]
     },
     "execution_count": 7,
     "metadata": {},
     "output_type": "execute_result"
    }
   ],
   "source": [
    "len(prices_df.idx)"
   ]
  }
 ],
 "metadata": {
  "kernelspec": {
   "display_name": "Python 3",
   "language": "python",
   "name": "python3"
  },
  "language_info": {
   "codemirror_mode": {
    "name": "ipython",
    "version": 3
   },
   "file_extension": ".py",
   "mimetype": "text/x-python",
   "name": "python",
   "nbconvert_exporter": "python",
   "pygments_lexer": "ipython3",
   "version": "3.7.3"
  }
 },
 "nbformat": 4,
 "nbformat_minor": 2
}
